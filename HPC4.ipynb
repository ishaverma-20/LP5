{
  "nbformat": 4,
  "nbformat_minor": 0,
  "metadata": {
    "colab": {
      "provenance": [],
      "gpuType": "T4"
    },
    "kernelspec": {
      "name": "python3",
      "display_name": "Python 3"
    },
    "language_info": {
      "name": "python"
    },
    "accelerator": "GPU"
  },
  "cells": [
    {
      "cell_type": "code",
      "execution_count": 10,
      "metadata": {
        "colab": {
          "base_uri": "https://localhost:8080/"
        },
        "id": "Ly7fsirf9KSF",
        "outputId": "e2155780-edb9-4cc4-da62-c3e740e85bdf"
      },
      "outputs": [
        {
          "output_type": "execute_result",
          "data": {
            "text/plain": [
              "True"
            ]
          },
          "metadata": {},
          "execution_count": 10
        }
      ],
      "source": [
        "import torch\n",
        "torch.cuda.is_available()"
      ]
    },
    {
      "cell_type": "code",
      "source": [
        "cuda_code = r\"\"\"\n",
        "#include <stdio.h>\n",
        "#include <cuda_runtime.h>\n",
        "\n",
        "#define N 500\n",
        "\n",
        "__global__ void add(int *a, int *b, int *c)\n",
        "{\n",
        "  int tid = threadIdx.x;\n",
        "  if(tid<N)\n",
        "  {\n",
        "    c[tid] = a[tid]+b[tid];\n",
        "  }\n",
        "}\n",
        "\n",
        "int main(void)\n",
        "{\n",
        "  int a[N], b[N], c[N];\n",
        "  int *dev_a, *dev_b, *dev_c;\n",
        "\n",
        "  cudaError_t err = cudaSuccess;\n",
        "\n",
        "  err = cudaMalloc((void**)&dev_a, N*sizeof(int));\n",
        "  if(err != cudaSuccess)\n",
        "  {\n",
        "    printf(\"Failed to allocate memory\\n\");\n",
        "    printf(\"Error: %s\\n\", cudaGetErrorString(err));\n",
        "    exit(EXIT_FAILURE);\n",
        "  }\n",
        "\n",
        "  cudaMalloc((void**)&dev_b, N*sizeof(int));\n",
        "  cudaMalloc((void**)&dev_c, N*sizeof(int));\n",
        "\n",
        "  for(int i=0; i<N; i++)\n",
        "  {\n",
        "    a[i] = i;\n",
        "    b[i] = i*i;\n",
        "    c[i] = 0;\n",
        "  }\n",
        "\n",
        "  cudaEvent_t start, end;\n",
        "  cudaEventCreate(&start);\n",
        "  cudaEventCreate(&end);\n",
        "  cudaEventRecord(start);\n",
        "\n",
        "  cudaMemcpy(dev_a, a, N*sizeof(int),cudaMemcpyHostToDevice);\n",
        "  cudaMemcpy(dev_b, b, N*sizeof(int),cudaMemcpyHostToDevice);\n",
        "  cudaMemcpy(dev_a, c, N*sizeof(int),cudaMemcpyHostToDevice);\n",
        "\n",
        "  add<<<1, N>>>(dev_a, dev_b, dev_c);\n",
        "\n",
        "  err = cudaMemcpy(c, dev_c, N*sizeof(int), cudaMemcpyDeviceToHost);\n",
        "  if(err != cudaSuccess)\n",
        "  {\n",
        "    printf(\"Failed to load from device\\n\");\n",
        "    printf(\"Error: %s\\n\", cudaGetErrorString(err));\n",
        "    exit(EXIT_FAILURE);\n",
        "  }\n",
        "\n",
        "  cudaEventRecord(end);\n",
        "  cudaEventSynchronize(end);\n",
        "  float time = 0;\n",
        "  cudaEventElapsedTime(&time, start, end);\n",
        "  printf(\"Execution Time: %f\\n\", time);\n",
        "\n",
        "  for(int i=0; i<10; i++)\n",
        "  {\n",
        "    printf(\"%d + %d = %d\\n\", a[i], b[i],c[i]);\n",
        "  }\n",
        "\n",
        "  cudaFree(dev_a);\n",
        "  cudaFree(dev_b);\n",
        "  cudaFree(dev_c);\n",
        "\n",
        "  return 0;\n",
        "}\n",
        "\"\"\"\n",
        "\n",
        "with open(\"addVectors.cu\", \"w\") as f:\n",
        "  f.write(cuda_code)"
      ],
      "metadata": {
        "id": "gb63VWdW9OG8"
      },
      "execution_count": 39,
      "outputs": []
    },
    {
      "cell_type": "code",
      "source": [
        "!nvcc addVectors.cu -o addVectors -arch=sm_75"
      ],
      "metadata": {
        "id": "7sKHy6Ei9fBR"
      },
      "execution_count": 41,
      "outputs": []
    },
    {
      "cell_type": "code",
      "source": [
        "!./addVectors"
      ],
      "metadata": {
        "colab": {
          "base_uri": "https://localhost:8080/"
        },
        "id": "CHGfBAwl9hNj",
        "outputId": "f8c0c230-5a48-4a64-91e4-98aa1a2a3dd0"
      },
      "execution_count": 42,
      "outputs": [
        {
          "output_type": "stream",
          "name": "stdout",
          "text": [
            "Execution Time: 0.154368\n",
            "0 + 0 = 0\n",
            "1 + 1 = 1\n",
            "2 + 4 = 4\n",
            "3 + 9 = 9\n",
            "4 + 16 = 16\n",
            "5 + 25 = 25\n",
            "6 + 36 = 36\n",
            "7 + 49 = 49\n",
            "8 + 64 = 64\n",
            "9 + 81 = 81\n"
          ]
        }
      ]
    },
    {
      "cell_type": "code",
      "source": [
        "cuda_code = r\"\"\"\n",
        "#include <iostream>\n",
        "#include <cstdlib>\n",
        "#include <chrono>\n",
        "#include <ctime>\n",
        "#include <cuda_runtime.h>\n",
        "using namespace std;\n",
        "using namespace std::chrono;\n",
        "\n",
        "__global__ void multiply(int* X, int* Y, int* Z, int M, int N, int K)\n",
        "{\n",
        "  int row = blockIdx.y * blockDim.y + threadIdx.y;\n",
        "  int col = blockIdx.x * blockDim.x + threadIdx.x;\n",
        "\n",
        "  if(row<M && col<K)\n",
        "  {\n",
        "    int sum = 0;\n",
        "    for(int i=0; i<N; i++)\n",
        "    {\n",
        "      sum += A[row*N+i] * B[col*i];\n",
        "    }\n",
        "    C[row*K+col] = sum;\n",
        "  }\n",
        "}\n",
        "\n",
        "void initialize(int* matrix, int rows, int cols)\n",
        "{\n",
        "  for(int i=0; i<rows*cols; i++)\n",
        "  {\n",
        "    matrix[i] = rand()%10;\n",
        "\n",
        "  }\n",
        "}\n",
        "\n",
        "void print(int* matrix, int rows, int cols)\n",
        "{\n",
        "  for(int row=0; row<rows; row++)\n",
        "  {\n",
        "    for(int col=0; col<cols; col++)\n",
        "    {\n",
        "      cout<<matrix[row*cols+col]<<\" \";\n",
        "    }\n",
        "    cout<<\"\\n\";\n",
        "  }\n",
        "  cout<<\"\\n\";\n",
        "}\n",
        "\n",
        "for seqMultiply(int* A, int* B, int* C, int M, int N, int K)\n",
        "{\n",
        "  for(int row=0; row<M; row++)\n",
        "  {\n",
        "    for(int col=0; col<K; col++)\n",
        "    {\n",
        "      int sum=0;\n",
        "      for(int i=0; i<N; i++)\n",
        "      {\n",
        "        sum += A[row*N+i] * B[i*N+col];\n",
        "      }\n",
        "      C[row*K+col] = sum;\n",
        "    }\n",
        "  }\n",
        "}\n",
        "\n",
        "int main()\n",
        "{\n",
        "  srand(time(0));\n",
        "\n",
        "  int M,N,K;\n",
        "  cout<<\"M1 row: \";\n",
        "  cin>>M;\n",
        "  cout<<\"M1 col: \";\n",
        "  cin>>N;\n",
        "  cout<<\"M2 col: \";\n",
        "  cin>>K;\n",
        "\n",
        "  int *A = new int[M*N];\n",
        "  int *B = new int[N*K];\n",
        "  int *C = new int[M*K];\n",
        "\n",
        "  initialize(A, M, N);\n",
        "  initialize(B, N, K);\n",
        "\n",
        "  cout<<\"M1: \\n\";\n",
        "  print(A, M, N);\n",
        "\n",
        "  cout<<\"M2: \\n\";\n",
        "  print(B, N, K);\n",
        "\n",
        "  int* x, int* Y, int* Z;\n",
        "  cudaMalloc(&X, M*N*sizeof(int));\n",
        "  cudaMalloc(&Y, N*K*sizeof(int));\n",
        "  cudaMalloc(&Z, M*K*sizeof(int));\n",
        "\n",
        "  cudaMemcpy(X, A, M*N*sizeof(int), cudaMemcpyHostToDevice);\n",
        "  cudaMemcpy(Y, B, N*K*sizeof(int), cudaMemcpyHostToDevice);\n",
        "  cudaMemcpy(Z, C, M*K*sizeof(int), cudaMemcpyHostToDevice);\n",
        "\n",
        "  int THREADS = 16;\n",
        "  int BLOCK_X = (K+THREADS-1)/THREADS;\n",
        "  int BLOCK_Y = (M+THREADS-1)/THREADS;\n",
        "\n",
        "  dim3 threads(THREADS, THREADS);\n",
        "  dim3 blocks(BLOCK_X, BLOCK_Y);\n",
        "\n",
        "  auto start = high_resolution_clock::now();\n",
        "  seqMultiply(A, B, C, M, N, K);\n",
        "  auto stop = high_resolution_clock::now();\n",
        "  auto seqTime = duration_cast<microseconds>(stop-start);\n",
        "\n",
        "  return 0;\n",
        "}\n",
        "\"\"\""
      ],
      "metadata": {
        "id": "nL8LbpqR9nUc"
      },
      "execution_count": 23,
      "outputs": []
    },
    {
      "cell_type": "code",
      "source": [
        "\n",
        "!nvcc mat_mult.cu -o mat_mult -arch=sm_75"
      ],
      "metadata": {
        "id": "935WTjW1aa2i"
      },
      "execution_count": 20,
      "outputs": []
    },
    {
      "cell_type": "code",
      "source": [
        "!./mat_mult"
      ],
      "metadata": {
        "colab": {
          "base_uri": "https://localhost:8080/"
        },
        "id": "7H5zVt1zabYx",
        "outputId": "edd7cc92-509a-4f4b-cd1c-8565308d9a9e"
      },
      "execution_count": 21,
      "outputs": [
        {
          "output_type": "stream",
          "name": "stdout",
          "text": [
            "Enter the number of rows and columns of the first matrix: 4\n",
            "5\n",
            "Enter the number of columns of the second matrix: 3\n",
            "Matrix A: \n",
            "2 6 0 5 3 \n",
            "4 1 3 6 6 \n",
            "1 0 9 0 0 \n",
            "3 6 6 8 1 \n",
            "\n",
            "Matrix B: \n",
            "9 7 3 \n",
            "8 2 2 \n",
            "1 3 2 \n",
            "1 3 4 \n",
            "7 5 9 \n",
            "\n",
            "Sequential Multiplication of matrix A and B: \n",
            "92 56 65 \n",
            "95 87 98 \n",
            "18 34 21 \n",
            "96 80 74 \n",
            "\n",
            "Parallel Multiplication of matrix A and B: \n",
            "92 56 65 \n",
            "95 87 98 \n",
            "18 34 21 \n",
            "96 80 74 \n",
            "\n",
            "Sequential Multiplication Time: 0 microseconds\n",
            "Parallel Multiplication Time: 174 microseconds\n"
          ]
        }
      ]
    },
    {
      "cell_type": "code",
      "source": [],
      "metadata": {
        "id": "wQlgTCOpbS2d"
      },
      "execution_count": null,
      "outputs": []
    },
    {
      "cell_type": "code",
      "source": [],
      "metadata": {
        "id": "awk58OqKfiku"
      },
      "execution_count": null,
      "outputs": []
    },
    {
      "cell_type": "code",
      "source": [],
      "metadata": {
        "id": "X7I4p1n-iqWc"
      },
      "execution_count": null,
      "outputs": []
    },
    {
      "cell_type": "code",
      "source": [],
      "metadata": {
        "id": "75M4fj2niuCG"
      },
      "execution_count": null,
      "outputs": []
    },
    {
      "cell_type": "code",
      "source": [],
      "metadata": {
        "id": "5JC4w6Mni42B"
      },
      "execution_count": null,
      "outputs": []
    },
    {
      "cell_type": "code",
      "source": [],
      "metadata": {
        "id": "sCJleQqTkD1R"
      },
      "execution_count": null,
      "outputs": []
    }
  ]
}